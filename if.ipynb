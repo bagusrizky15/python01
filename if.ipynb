{
 "cells": [
  {
   "cell_type": "code",
   "execution_count": 9,
   "id": "1fd589b0-c20b-4741-99dd-d67e06969cd2",
   "metadata": {},
   "outputs": [],
   "source": [
    "#Latihan 1.1"
   ]
  },
  {
   "cell_type": "code",
   "execution_count": 10,
   "id": "c23d6e31-b752-4ebf-878a-359e344ca811",
   "metadata": {},
   "outputs": [
    {
     "name": "stdout",
     "output_type": "stream",
     "text": [
      "nilai A diatas 45\n"
     ]
    }
   ],
   "source": [
    "a = 50\n",
    "if(a>45):\n",
    "    print(\"nilai A diatas 45\")\n",
    "elif(a<60):\n",
    "    print(\"dan nilai A kurang dari 60\")\n",
    "else:\n",
    "    print(\"dan nilai A lebih dari 60\")\n"
   ]
  },
  {
   "cell_type": "code",
   "execution_count": 7,
   "id": "7bd873b5-5073-4e5e-a7ac-4233e1fb1076",
   "metadata": {},
   "outputs": [
    {
     "name": "stdout",
     "output_type": "stream",
     "text": [
      "ini angka 10\n"
     ]
    }
   ],
   "source": [
    "i = 10\n",
    "if (i==10):\n",
    "    print(\"ini angka 10\")"
   ]
  },
  {
   "cell_type": "code",
   "execution_count": 8,
   "id": "0879e9d8-8da1-490c-a843-66893e366705",
   "metadata": {},
   "outputs": [
    {
     "name": "stdout",
     "output_type": "stream",
     "text": [
      "ini adalah angka 5\n"
     ]
    }
   ],
   "source": [
    "angka=5\n",
    "if (angka == 5):\n",
    "    print(\"ini adalah angka 5\")\n",
    "elif (angka > 5):\n",
    "    print(\"angka lebih besar dari 5\")\n",
    "else:\n",
    "    print(\"ini lebih kecil dari 5\")"
   ]
  },
  {
   "cell_type": "code",
   "execution_count": 20,
   "id": "49b21cea-e0ab-4a2a-a571-40b88c5fdd91",
   "metadata": {},
   "outputs": [
    {
     "name": "stdout",
     "output_type": "stream",
     "text": [
      "bilangan prima\n"
     ]
    }
   ],
   "source": [
    "bil = 5\n",
    "if (bil % 2 != 0):\n",
    "    print(\"bilangan prima\")\n",
    "else:\n",
    "    print(\"bukan bilangan prima\")\n",
    "    "
   ]
  },
  {
   "cell_type": "code",
   "execution_count": 21,
   "id": "cef2896a-19e6-4171-8e72-68f82447ea87",
   "metadata": {},
   "outputs": [],
   "source": [
    "#Kesimpulan"
   ]
  },
  {
   "cell_type": "code",
   "execution_count": null,
   "id": "3b8cd7b3-1797-4686-a4df-95cd3fbc64e1",
   "metadata": {},
   "outputs": [],
   "source": [
    "#Latihan 2.1"
   ]
  }
 ],
 "metadata": {
  "kernelspec": {
   "display_name": "Python 3 (ipykernel)",
   "language": "python",
   "name": "python3"
  },
  "language_info": {
   "codemirror_mode": {
    "name": "ipython",
    "version": 3
   },
   "file_extension": ".py",
   "mimetype": "text/x-python",
   "name": "python",
   "nbconvert_exporter": "python",
   "pygments_lexer": "ipython3",
   "version": "3.10.5"
  }
 },
 "nbformat": 4,
 "nbformat_minor": 5
}
